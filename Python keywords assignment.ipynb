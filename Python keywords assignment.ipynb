{
 "cells": [
  {
   "cell_type": "markdown",
   "id": "8cf4634a-c42b-437b-ab59-7ea36dad0e9e",
   "metadata": {},
   "source": [
    "1.Explain the significance of Python keywords and provide examples of five keywords"
   ]
  },
  {
   "cell_type": "markdown",
   "id": "071cb103-b915-43a9-9895-fa6db30ee028",
   "metadata": {},
   "source": [
    "Python keywords are predefined words which is having specific meaning in python language.\n",
    "if, else, print, elif, class, type are some of keywords\n"
   ]
  },
  {
   "cell_type": "markdown",
   "id": "5ec0aeaa-b1cb-4667-993d-2593b7a4f1c8",
   "metadata": {},
   "source": [
    "2. Describe the rules for defining identifiers in Python and provide an example"
   ]
  },
  {
   "cell_type": "markdown",
   "id": "c9d9fcc4-6921-4745-9f7b-4ef4bc93b4b1",
   "metadata": {},
   "source": [
    "Some basic rules of definig identifiers are any alphanumerisc characters, underscore and it can start with any alphabet but not with any number or any python keywords. Also identifiers are significant and case sensitive.\n",
    "my_name is one of the example\n"
   ]
  },
  {
   "cell_type": "markdown",
   "id": "f0a4d2c0-25be-4ef3-87d8-6bd153a0509f",
   "metadata": {},
   "source": [
    "3. What are comments in Python, and why are they useful andProvide an example"
   ]
  },
  {
   "cell_type": "markdown",
   "id": "3f8bbf6b-da3a-4298-a06f-d97086c2d2f2",
   "metadata": {},
   "source": [
    "The comments are used to explain the code and not a part of code. Mostly python coder/developer used comments to make coding more understandable.It should start with #"
   ]
  },
  {
   "cell_type": "markdown",
   "id": "3455c799-4844-42fa-9f18-08caa3f7737a",
   "metadata": {},
   "source": [
    "4.Why is proper indentation important in Python"
   ]
  },
  {
   "cell_type": "markdown",
   "id": "b0af233d-9ba3-4e88-86a4-b1c5f57bc2e4",
   "metadata": {},
   "source": [
    "Identation is very important to amke a code in structural way.It will make us understand to which line is belongs to which code. "
   ]
  },
  {
   "cell_type": "markdown",
   "id": "aa7813f0-26ba-4c70-a4c4-a4c20929ec07",
   "metadata": {},
   "source": [
    "5. What happens if indentation is incorrect in Python"
   ]
  },
  {
   "cell_type": "markdown",
   "id": "d976ffd3-af65-4183-ab29-bdaa98743e6f",
   "metadata": {},
   "source": [
    "If indendation is incorrect it will give error."
   ]
  },
  {
   "cell_type": "markdown",
   "id": "a6aeaf5e-26d6-4ceb-8c45-965eb2a0165f",
   "metadata": {},
   "source": [
    "6. Differentiate between expression and statement in Python with examples"
   ]
  },
  {
   "cell_type": "code",
   "execution_count": 3,
   "id": "9cdf3067-2521-4e21-879c-67e70d8f57c1",
   "metadata": {},
   "outputs": [],
   "source": [
    "a = 5\n"
   ]
  },
  {
   "cell_type": "code",
   "execution_count": 4,
   "id": "2df9f128-c589-438c-b31c-63d4336f60e1",
   "metadata": {},
   "outputs": [
    {
     "data": {
      "text/plain": [
       "5"
      ]
     },
     "execution_count": 4,
     "metadata": {},
     "output_type": "execute_result"
    }
   ],
   "source": [
    "a"
   ]
  },
  {
   "cell_type": "markdown",
   "id": "ba04c739-2306-48b3-873c-44a340b6ba63",
   "metadata": {},
   "source": [
    "Above example is statement"
   ]
  },
  {
   "cell_type": "code",
   "execution_count": 5,
   "id": "63b4d591-0a63-460f-866f-613be99b3e1e",
   "metadata": {},
   "outputs": [
    {
     "data": {
      "text/plain": [
       "7"
      ]
     },
     "execution_count": 5,
     "metadata": {},
     "output_type": "execute_result"
    }
   ],
   "source": [
    "a = 5\n",
    "b = 2\n",
    "a+b"
   ]
  },
  {
   "cell_type": "markdown",
   "id": "a3465088-94f4-49aa-a712-61bd49283235",
   "metadata": {},
   "source": [
    "above Example is expression"
   ]
  }
 ],
 "metadata": {
  "kernelspec": {
   "display_name": "Python 3 (ipykernel)",
   "language": "python",
   "name": "python3"
  },
  "language_info": {
   "codemirror_mode": {
    "name": "ipython",
    "version": 3
   },
   "file_extension": ".py",
   "mimetype": "text/x-python",
   "name": "python",
   "nbconvert_exporter": "python",
   "pygments_lexer": "ipython3",
   "version": "3.10.8"
  }
 },
 "nbformat": 4,
 "nbformat_minor": 5
}
